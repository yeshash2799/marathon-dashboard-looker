{
 "cells": [
  {
   "cell_type": "markdown",
   "metadata": {},
   "source": [
    "# Importing Libraries"
   ]
  },
  {
   "cell_type": "code",
   "execution_count": 1,
   "metadata": {},
   "outputs": [],
   "source": [
    "import pandas as pd\n",
    "from geopy.geocoders import Nominatim\n",
    "from geopy.exc import GeocoderTimedOut\n",
    "from geopy.extra.rate_limiter import RateLimiter"
   ]
  },
  {
   "cell_type": "markdown",
   "metadata": {},
   "source": [
    "# Tranforming the Data"
   ]
  },
  {
   "cell_type": "code",
   "execution_count": 2,
   "metadata": {},
   "outputs": [],
   "source": [
    "df = pd.read_csv('./race.csv')"
   ]
  },
  {
   "cell_type": "code",
   "execution_count": 3,
   "metadata": {},
   "outputs": [
    {
     "data": {
      "text/html": [
       "<div>\n",
       "<style scoped>\n",
       "    .dataframe tbody tr th:only-of-type {\n",
       "        vertical-align: middle;\n",
       "    }\n",
       "\n",
       "    .dataframe tbody tr th {\n",
       "        vertical-align: top;\n",
       "    }\n",
       "\n",
       "    .dataframe thead th {\n",
       "        text-align: right;\n",
       "    }\n",
       "</style>\n",
       "<table border=\"1\" class=\"dataframe\">\n",
       "  <thead>\n",
       "    <tr style=\"text-align: right;\">\n",
       "      <th></th>\n",
       "      <th>place</th>\n",
       "      <th>first</th>\n",
       "      <th>last</th>\n",
       "      <th>city</th>\n",
       "      <th>state</th>\n",
       "      <th>age</th>\n",
       "      <th>division</th>\n",
       "      <th>time</th>\n",
       "    </tr>\n",
       "  </thead>\n",
       "  <tbody>\n",
       "    <tr>\n",
       "      <th>0</th>\n",
       "      <td>1</td>\n",
       "      <td>Daniel</td>\n",
       "      <td>Wilson</td>\n",
       "      <td>Tulsa</td>\n",
       "      <td>OK</td>\n",
       "      <td>35</td>\n",
       "      <td>M</td>\n",
       "      <td>8:23:01</td>\n",
       "    </tr>\n",
       "    <tr>\n",
       "      <th>1</th>\n",
       "      <td>2</td>\n",
       "      <td>Eric</td>\n",
       "      <td>Davis</td>\n",
       "      <td>Greenwood</td>\n",
       "      <td>IN</td>\n",
       "      <td>38</td>\n",
       "      <td>M</td>\n",
       "      <td>8:57:54</td>\n",
       "    </tr>\n",
       "    <tr>\n",
       "      <th>2</th>\n",
       "      <td>3</td>\n",
       "      <td>Stewart</td>\n",
       "      <td>Edwards</td>\n",
       "      <td>New Smyrna Beach</td>\n",
       "      <td>FL</td>\n",
       "      <td>43</td>\n",
       "      <td>M</td>\n",
       "      <td>9:24:35</td>\n",
       "    </tr>\n",
       "    <tr>\n",
       "      <th>3</th>\n",
       "      <td>4</td>\n",
       "      <td>Ron</td>\n",
       "      <td>Hammett</td>\n",
       "      <td>Montverde</td>\n",
       "      <td>FL</td>\n",
       "      <td>53</td>\n",
       "      <td>M</td>\n",
       "      <td>9:24:36</td>\n",
       "    </tr>\n",
       "    <tr>\n",
       "      <th>4</th>\n",
       "      <td>5</td>\n",
       "      <td>Seth</td>\n",
       "      <td>Cain</td>\n",
       "      <td>Geneva</td>\n",
       "      <td>FL</td>\n",
       "      <td>44</td>\n",
       "      <td>M</td>\n",
       "      <td>9:42:17</td>\n",
       "    </tr>\n",
       "  </tbody>\n",
       "</table>\n",
       "</div>"
      ],
      "text/plain": [
       "   place    first     last              city state  age division     time\n",
       "0      1   Daniel   Wilson             Tulsa    OK   35        M  8:23:01\n",
       "1      2     Eric    Davis         Greenwood    IN   38        M  8:57:54\n",
       "2      3  Stewart  Edwards  New Smyrna Beach    FL   43        M  9:24:35\n",
       "3      4      Ron  Hammett         Montverde    FL   53        M  9:24:36\n",
       "4      5     Seth     Cain            Geneva    FL   44        M  9:42:17"
      ]
     },
     "execution_count": 3,
     "metadata": {},
     "output_type": "execute_result"
    }
   ],
   "source": [
    "df.head()"
   ]
  },
  {
   "cell_type": "code",
   "execution_count": 4,
   "metadata": {},
   "outputs": [],
   "source": [
    "df['full_name'] = df['first'] + ' ' + df['last']"
   ]
  },
  {
   "cell_type": "code",
   "execution_count": 5,
   "metadata": {},
   "outputs": [],
   "source": [
    "df['time'] = pd.to_timedelta(df['time'])"
   ]
  },
  {
   "cell_type": "code",
   "execution_count": 6,
   "metadata": {},
   "outputs": [],
   "source": [
    "df['total_minutes'] = (df['time'].dt.total_seconds()/60).round().astype(int)"
   ]
  },
  {
   "cell_type": "code",
   "execution_count": 7,
   "metadata": {},
   "outputs": [],
   "source": [
    "df.rename(columns={'division':'gender'}, inplace=True)"
   ]
  },
  {
   "cell_type": "code",
   "execution_count": 8,
   "metadata": {},
   "outputs": [],
   "source": [
    "def get_lat_long(city, state):\n",
    "    address = f'{city}, {state}'\n",
    "    try:\n",
    "        geolocator = Nominatim(user_agent='running', timeout=10) \n",
    "        location = geolocator.geocode(address)\n",
    "        if location:\n",
    "            return location.latitude, location.longitude\n",
    "        else:\n",
    "            return None, None\n",
    "    except GeocoderTimedOut:\n",
    "        return None, None"
   ]
  },
  {
   "cell_type": "code",
   "execution_count": 9,
   "metadata": {},
   "outputs": [],
   "source": [
    "df['latitude'], df['longitude'] = zip(*df.apply(lambda x: get_lat_long(x['city'], x['state']), axis=1))"
   ]
  },
  {
   "cell_type": "code",
   "execution_count": 10,
   "metadata": {},
   "outputs": [],
   "source": [
    "df['coordinates'] = df['latitude'].astype(str) + ', ' + df['longitude'].astype(str)"
   ]
  },
  {
   "cell_type": "code",
   "execution_count": 11,
   "metadata": {},
   "outputs": [
    {
     "data": {
      "text/html": [
       "<div>\n",
       "<style scoped>\n",
       "    .dataframe tbody tr th:only-of-type {\n",
       "        vertical-align: middle;\n",
       "    }\n",
       "\n",
       "    .dataframe tbody tr th {\n",
       "        vertical-align: top;\n",
       "    }\n",
       "\n",
       "    .dataframe thead th {\n",
       "        text-align: right;\n",
       "    }\n",
       "</style>\n",
       "<table border=\"1\" class=\"dataframe\">\n",
       "  <thead>\n",
       "    <tr style=\"text-align: right;\">\n",
       "      <th></th>\n",
       "      <th>place</th>\n",
       "      <th>first</th>\n",
       "      <th>last</th>\n",
       "      <th>city</th>\n",
       "      <th>state</th>\n",
       "      <th>age</th>\n",
       "      <th>gender</th>\n",
       "      <th>time</th>\n",
       "      <th>full_name</th>\n",
       "      <th>total_minutes</th>\n",
       "      <th>latitude</th>\n",
       "      <th>longitude</th>\n",
       "      <th>coordinates</th>\n",
       "    </tr>\n",
       "  </thead>\n",
       "  <tbody>\n",
       "    <tr>\n",
       "      <th>0</th>\n",
       "      <td>1</td>\n",
       "      <td>Daniel</td>\n",
       "      <td>Wilson</td>\n",
       "      <td>Tulsa</td>\n",
       "      <td>OK</td>\n",
       "      <td>35</td>\n",
       "      <td>M</td>\n",
       "      <td>0 days 08:23:01</td>\n",
       "      <td>Daniel Wilson</td>\n",
       "      <td>503</td>\n",
       "      <td>36.156312</td>\n",
       "      <td>-95.992752</td>\n",
       "      <td>36.1563122, -95.9927516</td>\n",
       "    </tr>\n",
       "    <tr>\n",
       "      <th>1</th>\n",
       "      <td>2</td>\n",
       "      <td>Eric</td>\n",
       "      <td>Davis</td>\n",
       "      <td>Greenwood</td>\n",
       "      <td>IN</td>\n",
       "      <td>38</td>\n",
       "      <td>M</td>\n",
       "      <td>0 days 08:57:54</td>\n",
       "      <td>Eric Davis</td>\n",
       "      <td>538</td>\n",
       "      <td>39.613699</td>\n",
       "      <td>-86.109543</td>\n",
       "      <td>39.6136987, -86.1095429</td>\n",
       "    </tr>\n",
       "    <tr>\n",
       "      <th>2</th>\n",
       "      <td>3</td>\n",
       "      <td>Stewart</td>\n",
       "      <td>Edwards</td>\n",
       "      <td>New Smyrna Beach</td>\n",
       "      <td>FL</td>\n",
       "      <td>43</td>\n",
       "      <td>M</td>\n",
       "      <td>0 days 09:24:35</td>\n",
       "      <td>Stewart Edwards</td>\n",
       "      <td>565</td>\n",
       "      <td>29.025813</td>\n",
       "      <td>-80.927127</td>\n",
       "      <td>29.0258132, -80.9271271</td>\n",
       "    </tr>\n",
       "    <tr>\n",
       "      <th>3</th>\n",
       "      <td>4</td>\n",
       "      <td>Ron</td>\n",
       "      <td>Hammett</td>\n",
       "      <td>Montverde</td>\n",
       "      <td>FL</td>\n",
       "      <td>53</td>\n",
       "      <td>M</td>\n",
       "      <td>0 days 09:24:36</td>\n",
       "      <td>Ron Hammett</td>\n",
       "      <td>565</td>\n",
       "      <td>28.600277</td>\n",
       "      <td>-81.673964</td>\n",
       "      <td>28.6002769, -81.673964</td>\n",
       "    </tr>\n",
       "    <tr>\n",
       "      <th>4</th>\n",
       "      <td>5</td>\n",
       "      <td>Seth</td>\n",
       "      <td>Cain</td>\n",
       "      <td>Geneva</td>\n",
       "      <td>FL</td>\n",
       "      <td>44</td>\n",
       "      <td>M</td>\n",
       "      <td>0 days 09:42:17</td>\n",
       "      <td>Seth Cain</td>\n",
       "      <td>582</td>\n",
       "      <td>28.739716</td>\n",
       "      <td>-81.115062</td>\n",
       "      <td>28.7397163, -81.1150616</td>\n",
       "    </tr>\n",
       "  </tbody>\n",
       "</table>\n",
       "</div>"
      ],
      "text/plain": [
       "   place    first     last              city state  age gender  \\\n",
       "0      1   Daniel   Wilson             Tulsa    OK   35      M   \n",
       "1      2     Eric    Davis         Greenwood    IN   38      M   \n",
       "2      3  Stewart  Edwards  New Smyrna Beach    FL   43      M   \n",
       "3      4      Ron  Hammett         Montverde    FL   53      M   \n",
       "4      5     Seth     Cain            Geneva    FL   44      M   \n",
       "\n",
       "             time        full_name  total_minutes   latitude  longitude  \\\n",
       "0 0 days 08:23:01    Daniel Wilson            503  36.156312 -95.992752   \n",
       "1 0 days 08:57:54       Eric Davis            538  39.613699 -86.109543   \n",
       "2 0 days 09:24:35  Stewart Edwards            565  29.025813 -80.927127   \n",
       "3 0 days 09:24:36      Ron Hammett            565  28.600277 -81.673964   \n",
       "4 0 days 09:42:17        Seth Cain            582  28.739716 -81.115062   \n",
       "\n",
       "               coordinates  \n",
       "0  36.1563122, -95.9927516  \n",
       "1  39.6136987, -86.1095429  \n",
       "2  29.0258132, -80.9271271  \n",
       "3   28.6002769, -81.673964  \n",
       "4  28.7397163, -81.1150616  "
      ]
     },
     "execution_count": 11,
     "metadata": {},
     "output_type": "execute_result"
    }
   ],
   "source": [
    "df.head()"
   ]
  },
  {
   "cell_type": "markdown",
   "metadata": {},
   "source": [
    "# Exporting the Tranformed Data"
   ]
  },
  {
   "cell_type": "code",
   "execution_count": 12,
   "metadata": {},
   "outputs": [],
   "source": [
    "df.to_csv('./race_transformed.csv', index=False)"
   ]
  }
 ],
 "metadata": {
  "kernelspec": {
   "display_name": "Python 3",
   "language": "python",
   "name": "python3"
  },
  "language_info": {
   "codemirror_mode": {
    "name": "ipython",
    "version": 3
   },
   "file_extension": ".py",
   "mimetype": "text/x-python",
   "name": "python",
   "nbconvert_exporter": "python",
   "pygments_lexer": "ipython3",
   "version": "3.12.1"
  }
 },
 "nbformat": 4,
 "nbformat_minor": 2
}
